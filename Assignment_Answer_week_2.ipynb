{
  "cells": [
    {
      "cell_type": "markdown",
      "metadata": {
        "id": "view-in-github",
        "colab_type": "text"
      },
      "source": [
        "<a href=\"https://colab.research.google.com/github/infantanto1805/rasa.ai/blob/main/Assignment_Answer_week_2.ipynb\" target=\"_parent\"><img src=\"https://colab.research.google.com/assets/colab-badge.svg\" alt=\"Open In Colab\"/></a>"
      ]
    },
    {
      "cell_type": "markdown",
      "source": [
        "#**Python_Intern_Assignment_1**\n",
        "**Answer sheet**"
      ],
      "metadata": {
        "id": "Cx0Lofg0AoUe"
      },
      "id": "Cx0Lofg0AoUe"
    },
    {
      "cell_type": "markdown",
      "id": "8aeca20d",
      "metadata": {
        "id": "8aeca20d"
      },
      "source": [
        "\n",
        "\n",
        "```\n",
        "# 1  poem\n",
        "```\n",
        "\n"
      ]
    },
    {
      "cell_type": "code",
      "execution_count": null,
      "id": "e8f13cc2",
      "metadata": {
        "id": "e8f13cc2",
        "outputId": "462ca8a5-6649-437a-95e3-f13b2e072a69",
        "colab": {
          "base_uri": "https://localhost:8080/"
        }
      },
      "outputs": [
        {
          "output_type": "stream",
          "name": "stdout",
          "text": [
            "Twinkle, twinkle, little star,\n",
            "\tHow I wonder what you are!\n",
            "\t\tUp above the world so high,\n",
            "\t\tLike a diamond in the sky.\n",
            "Twinkle, twinkle, little star,\n",
            "\tHow I wonder what you are\n"
          ]
        }
      ],
      "source": [
        "print(\"Twinkle, twinkle, little star,\")\n",
        "print(\"\\tHow I wonder what you are!\")\n",
        "print(\"\\t\\tUp above the world so high,\")\n",
        "print(\"\\t\\tLike a diamond in the sky.\")\n",
        "print(\"Twinkle, twinkle, little star,\")\n",
        "print(\"\\tHow I wonder what you are\")\n"
      ]
    },
    {
      "cell_type": "markdown",
      "id": "3e866570",
      "metadata": {
        "id": "3e866570"
      },
      "source": [
        "\n",
        "\n",
        "\n",
        "```\n",
        "# 2 find out what version of Python you are using\n",
        "```\n",
        "\n"
      ]
    },
    {
      "cell_type": "code",
      "execution_count": null,
      "id": "aa6c2d54",
      "metadata": {
        "id": "aa6c2d54",
        "outputId": "924ca506-311a-48bb-d110-bd1c4b8c6bc6",
        "colab": {
          "base_uri": "https://localhost:8080/"
        }
      },
      "outputs": [
        {
          "output_type": "stream",
          "name": "stdout",
          "text": [
            "Python version\n",
            "3.11.12 (main, Apr  9 2025, 08:55:54) [GCC 11.4.0]\n",
            "Version info.\n",
            "sys.version_info(major=3, minor=11, micro=12, releaselevel='final', serial=0)\n"
          ]
        }
      ],
      "source": [
        "import sys\n",
        "print(\"Python version\")\n",
        "print(sys.version)\n",
        "print(\"Version info.\")\n",
        "print(sys.version_info)\n"
      ]
    },
    {
      "cell_type": "markdown",
      "id": "d756df5a",
      "metadata": {
        "id": "d756df5a"
      },
      "source": [
        "\n",
        "\n",
        "```\n",
        "# 3 Python program to display the current date and time\n",
        "```\n",
        "\n",
        "\n"
      ]
    },
    {
      "cell_type": "code",
      "execution_count": null,
      "id": "8aa23e49",
      "metadata": {
        "id": "8aa23e49",
        "outputId": "db585708-daa7-4877-cc8c-2a70a1a881ca",
        "colab": {
          "base_uri": "https://localhost:8080/"
        }
      },
      "outputs": [
        {
          "output_type": "stream",
          "name": "stdout",
          "text": [
            "Current date and time : \n",
            "2025-05-14 05:28:14\n"
          ]
        }
      ],
      "source": [
        "import datetime\n",
        "now = datetime.datetime.now()\n",
        "print(\"Current date and time : \")\n",
        "print(now.strftime(\"%Y-%m-%d %H:%M:%S\"))\n"
      ]
    },
    {
      "cell_type": "markdown",
      "id": "499b9fbd",
      "metadata": {
        "id": "499b9fbd"
      },
      "source": [
        "\n",
        "```\n",
        "# 4 Python program that calculates the area of a circle based on the radius entered by the user.\n",
        "```\n",
        "\n",
        "\n"
      ]
    },
    {
      "cell_type": "code",
      "execution_count": null,
      "id": "ea3ccf58",
      "metadata": {
        "id": "ea3ccf58",
        "outputId": "13c1a2ef-02b6-498b-e37d-f10f89e5b004",
        "colab": {
          "base_uri": "https://localhost:8080/"
        }
      },
      "outputs": [
        {
          "output_type": "stream",
          "name": "stdout",
          "text": [
            "Input the radius of the circle : 44\n",
            "The area of the circle with radius 44.0 is: 6082.12337734984\n"
          ]
        }
      ],
      "source": [
        "from math import pi\n",
        "r = float(input(\"Input the radius of the circle : \"))\n",
        "area = pi * r**2\n",
        "print(\"The area of the circle with radius\", r, \"is:\", area)\n"
      ]
    },
    {
      "cell_type": "markdown",
      "id": "48fe388b",
      "metadata": {
        "id": "48fe388b"
      },
      "source": [
        "\n",
        "```\n",
        "# 5 Python program that accepts the user's first and last name and prints them in reverse order\n",
        "```\n",
        "\n",
        "\n"
      ]
    },
    {
      "cell_type": "code",
      "execution_count": null,
      "id": "321063a1",
      "metadata": {
        "id": "321063a1",
        "outputId": "dd9f0d15-8d21-446a-e1b2-52c38a9efb5e",
        "colab": {
          "base_uri": "https://localhost:8080/"
        }
      },
      "outputs": [
        {
          "output_type": "stream",
          "name": "stdout",
          "text": [
            "Enter your first name: Infant\n",
            "Enter your last name: Anto\n",
            "Reversed Name: Anto Infant\n"
          ]
        }
      ],
      "source": [
        "first_name = input(\"Enter your first name: \")\n",
        "last_name = input(\"Enter your last name: \")\n",
        "print(\"Reversed Name:\", last_name, first_name)\n"
      ]
    },
    {
      "cell_type": "markdown",
      "id": "b6f918b7",
      "metadata": {
        "id": "b6f918b7"
      },
      "source": [
        "\n",
        "\n",
        "```\n",
        "# 6 Python program that accepts a sequence of comma-separated numbers and generates a list and a tuple.\n",
        "\n",
        "```\n",
        "\n",
        "\n"
      ]
    },
    {
      "cell_type": "code",
      "execution_count": 20,
      "id": "4a9d409e",
      "metadata": {
        "id": "4a9d409e",
        "outputId": "5eea3ed8-0437-43ed-d1d5-267cc18bf67f",
        "colab": {
          "base_uri": "https://localhost:8080/"
        }
      },
      "outputs": [
        {
          "output_type": "stream",
          "name": "stdout",
          "text": [
            "Input some comma separated numbers: 3,4,5,6,7,8\n",
            "List : ['3', '4', '5', '6', '7', '8']\n",
            "Tuple : ('3', '4', '5', '6', '7', '8')\n"
          ]
        }
      ],
      "source": [
        "values = input(\"Input some comma separated numbers: \")\n",
        "list_values = values.split(\",\")\n",
        "tuple_values = tuple(list_values)\n",
        "print('List :', list_values)\n",
        "print('Tuple :', tuple_values)\n"
      ]
    },
    {
      "cell_type": "markdown",
      "id": "66c6bfbd",
      "metadata": {
        "id": "66c6bfbd"
      },
      "source": [
        "\n",
        "\n",
        "```\n",
        "# 7 Python program that accepts a filename and prints the extension of the file.\n",
        "\n",
        "```\n",
        "\n",
        "\n"
      ]
    },
    {
      "cell_type": "code",
      "execution_count": null,
      "id": "33a7b41a",
      "metadata": {
        "id": "33a7b41a",
        "outputId": "eeefe7fe-48e9-48f9-e9bc-9a6942eecd03",
        "colab": {
          "base_uri": "https://localhost:8080/"
        }
      },
      "outputs": [
        {
          "output_type": "stream",
          "name": "stdout",
          "text": [
            "Input the Filename: data\n",
            "The extension of the file is: data\n"
          ]
        }
      ],
      "source": [
        "filename = input(\"Input the Filename: \")\n",
        "f_extns = filename.split(\".\")[-1]\n",
        "print(\"The extension of the file is:\", f_extns)\n"
      ]
    },
    {
      "cell_type": "markdown",
      "id": "6b595b69",
      "metadata": {
        "id": "6b595b69"
      },
      "source": [
        "\n",
        "\n",
        "```\n",
        "# 8 Python program to display the first and last colors from the list.\n",
        "\n",
        "```\n",
        "\n",
        "\n"
      ]
    },
    {
      "cell_type": "code",
      "execution_count": null,
      "id": "9c565b64",
      "metadata": {
        "id": "9c565b64",
        "outputId": "d07a9c75-5875-4358-b57b-80ceea747129",
        "colab": {
          "base_uri": "https://localhost:8080/"
        }
      },
      "outputs": [
        {
          "output_type": "stream",
          "name": "stdout",
          "text": [
            "First color: Red\n",
            "Last color: Black\n"
          ]
        }
      ],
      "source": [
        "color_list = [\"Red\", \"Green\", \"White\", \"Black\"]\n",
        "print(\"First color:\", color_list[0])\n",
        "print(\"Last color:\", color_list[-1])\n"
      ]
    },
    {
      "cell_type": "markdown",
      "id": "c3805ac7",
      "metadata": {
        "id": "c3805ac7"
      },
      "source": [
        "\n",
        "\n",
        "\n",
        "```\n",
        "# 9 Python program to display the examination schedule.\n",
        "\n",
        "```\n",
        "\n",
        "\n"
      ]
    },
    {
      "cell_type": "code",
      "execution_count": null,
      "id": "2f9d438f",
      "metadata": {
        "id": "2f9d438f",
        "outputId": "8e620fa6-83e3-4a11-90e3-307353505e27",
        "colab": {
          "base_uri": "https://localhost:8080/"
        }
      },
      "outputs": [
        {
          "output_type": "stream",
          "name": "stdout",
          "text": [
            "The examination will start from: 11 / 12 / 2014\n"
          ]
        }
      ],
      "source": [
        "exam_st_date = (11, 12, 2014)\n",
        "print(\"The examination will start from: %i / %i / %i\" % exam_st_date)\n"
      ]
    },
    {
      "cell_type": "markdown",
      "id": "ee9a7e1a",
      "metadata": {
        "id": "ee9a7e1a"
      },
      "source": [
        "\n",
        "\n",
        "```\n",
        "# 10 Python program to calculate the value of n+nn+nnn for a given n.\n",
        "\n",
        "```\n",
        "\n",
        "\n",
        "\n"
      ]
    },
    {
      "cell_type": "code",
      "execution_count": null,
      "id": "807cb933",
      "metadata": {
        "id": "807cb933",
        "outputId": "281cc514-41b8-4a60-a944-caebde7e6db3",
        "colab": {
          "base_uri": "https://localhost:8080/"
        }
      },
      "outputs": [
        {
          "output_type": "stream",
          "name": "stdout",
          "text": [
            "Enter a number: 3\n",
            "Result: 369\n"
          ]
        }
      ],
      "source": [
        "n = int(input(\"Enter a number: \"))\n",
        "nn = int(str(n) * 2)\n",
        "nnn = int(str(n) * 3)\n",
        "print(\"Result:\", n + nn + nnn)\n"
      ]
    },
    {
      "cell_type": "markdown",
      "id": "5a564e0a",
      "metadata": {
        "id": "5a564e0a"
      },
      "source": [
        "\n",
        "\n",
        "```\n",
        "# 10 Python program to print documentation of built-in function.\n",
        "```\n",
        "\n",
        "\n",
        "\n"
      ]
    },
    {
      "cell_type": "code",
      "execution_count": null,
      "id": "9ca991c1",
      "metadata": {
        "id": "9ca991c1",
        "outputId": "fc608b87-0b14-43d9-afa7-0e0f1f00639e",
        "colab": {
          "base_uri": "https://localhost:8080/"
        }
      },
      "outputs": [
        {
          "output_type": "stream",
          "name": "stdout",
          "text": [
            "Return the absolute value of the argument.\n"
          ]
        }
      ],
      "source": [
        "print(abs.__doc__)\n"
      ]
    },
    {
      "cell_type": "markdown",
      "id": "30e18d6c",
      "metadata": {
        "id": "30e18d6c"
      },
      "source": [
        "\n",
        "\n",
        "```\n",
        "# 11 Python program that prints the calendar for a given month and year.\n",
        "```\n",
        "\n",
        "\n",
        "\n"
      ]
    },
    {
      "cell_type": "code",
      "execution_count": null,
      "id": "5d6a7851",
      "metadata": {
        "id": "5d6a7851",
        "outputId": "5e6d6b1d-cf14-4b77-ab83-c9e7010bfff6",
        "colab": {
          "base_uri": "https://localhost:8080/"
        }
      },
      "outputs": [
        {
          "output_type": "stream",
          "name": "stdout",
          "text": [
            "Input the year: 2003\n",
            "Input the month: 05\n",
            "      May 2003\n",
            "Mo Tu We Th Fr Sa Su\n",
            "          1  2  3  4\n",
            " 5  6  7  8  9 10 11\n",
            "12 13 14 15 16 17 18\n",
            "19 20 21 22 23 24 25\n",
            "26 27 28 29 30 31\n",
            "\n"
          ]
        }
      ],
      "source": [
        "import calendar\n",
        "year = int(input(\"Input the year: \"))\n",
        "month = int(input(\"Input the month: \"))\n",
        "print(calendar.month(year, month))\n"
      ]
    },
    {
      "cell_type": "markdown",
      "id": "bcda4fef",
      "metadata": {
        "id": "bcda4fef"
      },
      "source": [
        "\n",
        "\n",
        "```\n",
        "# 12 Python program to print a multi-line 'here document'.\n",
        "Python program that prints the calendar for a given month and year.\n",
        "```\n",
        "\n",
        "\n",
        "\n"
      ]
    },
    {
      "cell_type": "code",
      "execution_count": null,
      "id": "27db5ef3",
      "metadata": {
        "id": "27db5ef3",
        "outputId": "05d324c0-3afe-40ea-b465-920b147315e9",
        "colab": {
          "base_uri": "https://localhost:8080/"
        }
      },
      "outputs": [
        {
          "output_type": "stream",
          "name": "stdout",
          "text": [
            "\n",
            "a string that you \"don't\" have to escape\n",
            "This\n",
            "is a ....... multi-line\n",
            "heredoc string --------> example\n",
            "\n"
          ]
        }
      ],
      "source": [
        "print(\"\"\"\n",
        "a string that you \"don't\" have to escape\n",
        "This\n",
        "is a ....... multi-line\n",
        "heredoc string --------> example\n",
        "\"\"\")\n"
      ]
    },
    {
      "cell_type": "markdown",
      "id": "a8a17cec",
      "metadata": {
        "id": "a8a17cec"
      },
      "source": [
        "\n",
        "\n",
        "```\n",
        "# 13 Python program to calculate days between two dates..\n",
        "```\n",
        "\n",
        "\n",
        "\n"
      ]
    },
    {
      "cell_type": "code",
      "execution_count": 1,
      "id": "87958e59",
      "metadata": {
        "id": "87958e59",
        "colab": {
          "base_uri": "https://localhost:8080/"
        },
        "outputId": "181b2e5d-66ea-4200-a00f-fb1b61244f49"
      },
      "outputs": [
        {
          "output_type": "stream",
          "name": "stdout",
          "text": [
            "Days between: 9\n"
          ]
        }
      ],
      "source": [
        "from datetime import date\n",
        "f_date = date(2014, 7, 2)\n",
        "l_date = date(2014, 7, 11)\n",
        "delta = l_date - f_date\n",
        "print(f\"Days between: {delta.days}\")\n"
      ]
    },
    {
      "cell_type": "markdown",
      "id": "6a18ac15",
      "metadata": {
        "id": "6a18ac15"
      },
      "source": [
        "\n",
        "\n",
        "```\n",
        "# 14 Python program to get the volume of a sphere with radius 6.\n",
        "```\n",
        "\n",
        "\n",
        "\n"
      ]
    },
    {
      "cell_type": "code",
      "execution_count": 2,
      "id": "681c7ead",
      "metadata": {
        "id": "681c7ead",
        "colab": {
          "base_uri": "https://localhost:8080/"
        },
        "outputId": "bb67d53f-2eb9-4830-a7ab-b76b88134683"
      },
      "outputs": [
        {
          "output_type": "stream",
          "name": "stdout",
          "text": [
            "Volume of the sphere is: 904.7786842338603\n"
          ]
        }
      ],
      "source": [
        "from math import pi\n",
        "r = 6.0\n",
        "volume = (4.0/3.0) * pi * r**3\n",
        "print(\"Volume of the sphere is:\", volume)\n"
      ]
    },
    {
      "cell_type": "markdown",
      "id": "47d6dc4f",
      "metadata": {
        "id": "47d6dc4f"
      },
      "source": [
        "\n",
        "\n",
        "```\n",
        "# 15 Calculate the difference between a given number and 17. If the number is greater than 17, return twice the absolute difference.\n",
        "\n",
        "```\n",
        "\n",
        "\n",
        "\n"
      ]
    },
    {
      "cell_type": "code",
      "execution_count": 3,
      "id": "280ff65c",
      "metadata": {
        "id": "280ff65c",
        "colab": {
          "base_uri": "https://localhost:8080/"
        },
        "outputId": "48ed2a99-a89a-43ea-cfaa-9f0bf0f3659d"
      },
      "outputs": [
        {
          "output_type": "stream",
          "name": "stdout",
          "text": [
            "10\n",
            "3\n"
          ]
        }
      ],
      "source": [
        "def diff_17(n):\n",
        "    if n > 17:\n",
        "        return 2 * abs(n - 17)\n",
        "    else:\n",
        "        return 17 - n\n",
        "\n",
        "print(diff_17(22))\n",
        "print(diff_17(14))\n"
      ]
    },
    {
      "cell_type": "markdown",
      "id": "873c975e",
      "metadata": {
        "id": "873c975e"
      },
      "source": [
        "\n",
        "\n",
        "```\n",
        "# 16 Test whether a number is within 100 of 1000 or 2000.\n",
        "\n",
        "```\n",
        "\n",
        "\n",
        "\n"
      ]
    },
    {
      "cell_type": "code",
      "execution_count": 4,
      "id": "d8a7514b",
      "metadata": {
        "id": "d8a7514b",
        "colab": {
          "base_uri": "https://localhost:8080/"
        },
        "outputId": "bf6244e3-44f7-45e9-9973-def32d19cff0"
      },
      "outputs": [
        {
          "output_type": "stream",
          "name": "stdout",
          "text": [
            "True\n",
            "True\n",
            "False\n",
            "False\n"
          ]
        }
      ],
      "source": [
        "def near_thousand(n):\n",
        "    return ((abs(1000 - n) <= 100) or (abs(2000 - n) <= 100))\n",
        "\n",
        "print(near_thousand(1000))\n",
        "print(near_thousand(900))\n",
        "print(near_thousand(800))\n",
        "print(near_thousand(2200))\n"
      ]
    },
    {
      "cell_type": "markdown",
      "id": "c0ef6fc5",
      "metadata": {
        "id": "c0ef6fc5"
      },
      "source": [
        "\n",
        "\n",
        "```\n",
        "# 17 Calculate the sum of three numbers. If all are equal, return thrice their sum.\n",
        "\n",
        "```\n",
        "\n",
        "\n",
        "\n",
        "\n"
      ]
    },
    {
      "cell_type": "code",
      "execution_count": 5,
      "id": "eb87b44b",
      "metadata": {
        "id": "eb87b44b",
        "colab": {
          "base_uri": "https://localhost:8080/"
        },
        "outputId": "9aabd5a4-6cfc-4211-9742-c14e645adea2"
      },
      "outputs": [
        {
          "output_type": "stream",
          "name": "stdout",
          "text": [
            "6\n",
            "27\n"
          ]
        }
      ],
      "source": [
        "def sum_thrice(x, y, z):\n",
        "    if x == y == z:\n",
        "        return 3 * (x + y + z)\n",
        "    else:\n",
        "        return x + y + z\n",
        "\n",
        "print(sum_thrice(1, 2, 3))\n",
        "print(sum_thrice(3, 3, 3))\n"
      ]
    },
    {
      "cell_type": "markdown",
      "id": "cdce718c",
      "metadata": {
        "id": "cdce718c"
      },
      "source": [
        "\n",
        "```\n",
        "# 18 Get a new string with 'Is' added to the front. If it already begins with 'Is', return unchanged.\n",
        "\n",
        "```\n",
        "\n",
        "\n",
        "\n",
        "\n"
      ]
    },
    {
      "cell_type": "code",
      "execution_count": 8,
      "id": "a8f52a1b",
      "metadata": {
        "id": "a8f52a1b",
        "colab": {
          "base_uri": "https://localhost:8080/"
        },
        "outputId": "2a380259-df6e-434e-f241-42ea00df5b95"
      },
      "outputs": [
        {
          "output_type": "stream",
          "name": "stdout",
          "text": [
            "IsArray\n",
            "IsEmpty\n",
            "IsAnto\n"
          ]
        }
      ],
      "source": [
        "def new_string(text):\n",
        "    if len(text) >= 2 and text[:2] == \"Is\":\n",
        "        return text\n",
        "    return \"Is\" + text\n",
        "\n",
        "print(new_string(\"Array\"))\n",
        "print(new_string(\"IsEmpty\"))\n",
        "print(new_string(\"Anto\"))\n"
      ]
    },
    {
      "cell_type": "markdown",
      "id": "4ba4e95c",
      "metadata": {
        "id": "4ba4e95c"
      },
      "source": [
        "\n",
        "```\n",
        "# 19 Return a string that is n copies of a given string.\n",
        "\n",
        "```\n",
        "\n",
        "\n",
        "\n",
        "\n"
      ]
    },
    {
      "cell_type": "code",
      "execution_count": 9,
      "id": "0d80db87",
      "metadata": {
        "id": "0d80db87",
        "colab": {
          "base_uri": "https://localhost:8080/"
        },
        "outputId": "51b33c25-c312-42b3-8237-8ec960833a8c"
      },
      "outputs": [
        {
          "output_type": "stream",
          "name": "stdout",
          "text": [
            "PythonPython\n",
            "PythonPythonPythonPythonPythonPythonPythonPython\n"
          ]
        }
      ],
      "source": [
        "def larger_string(text, n):\n",
        "    return text * n\n",
        "\n",
        "print(larger_string(\"Python\", 2))\n",
        "print(larger_string(\"Python\", 8))\n"
      ]
    },
    {
      "cell_type": "markdown",
      "id": "18a8a600",
      "metadata": {
        "id": "18a8a600"
      },
      "source": [
        "\n",
        "```\n",
        "# 20 Determine whether a number is even or odd.\n",
        "\n",
        "\n",
        "```\n",
        "\n",
        "\n",
        "\n",
        "\n"
      ]
    },
    {
      "cell_type": "code",
      "execution_count": 10,
      "id": "5f74f4f3",
      "metadata": {
        "id": "5f74f4f3",
        "colab": {
          "base_uri": "https://localhost:8080/"
        },
        "outputId": "d5f507f1-192c-4cb2-f4ec-71f1335b136e"
      },
      "outputs": [
        {
          "output_type": "stream",
          "name": "stdout",
          "text": [
            "Enter a number: 5\n",
            "Odd\n"
          ]
        }
      ],
      "source": [
        "num = int(input(\"Enter a number: \"))\n",
        "if num % 2 == 0:\n",
        "    print(\"Even\")\n",
        "else:\n",
        "    print(\"Odd\")\n"
      ]
    },
    {
      "cell_type": "markdown",
      "id": "1a50adce",
      "metadata": {
        "id": "1a50adce"
      },
      "source": [
        "\n",
        "\n",
        "```\n",
        "# 21 Count the number 4 in a given list.\n",
        "\n",
        "\n",
        "```\n",
        "\n",
        "\n",
        "\n",
        "\n"
      ]
    },
    {
      "cell_type": "code",
      "execution_count": 12,
      "id": "00912716",
      "metadata": {
        "id": "00912716",
        "colab": {
          "base_uri": "https://localhost:8080/"
        },
        "outputId": "074eada9-c6ef-4b6c-f6df-b0f1f1d40f17"
      },
      "outputs": [
        {
          "output_type": "stream",
          "name": "stdout",
          "text": [
            "4\n"
          ]
        }
      ],
      "source": [
        "def list_count_4(nums):\n",
        "    count = 0\n",
        "    for num in nums:\n",
        "        if num == 4:\n",
        "            count += 1\n",
        "    return count\n",
        "\n",
        "print(list_count_4([1, 4, 6, 7, 4, 4, 6, 7, 4]))\n"
      ]
    },
    {
      "cell_type": "markdown",
      "id": "1857d16b",
      "metadata": {
        "id": "1857d16b"
      },
      "source": [
        "\n",
        "```\n",
        "# 22 Vowel Tester\n",
        "\n",
        "\n",
        "```\n",
        "\n",
        "\n",
        "\n",
        "\n"
      ]
    },
    {
      "cell_type": "code",
      "execution_count": 13,
      "id": "a650d10a",
      "metadata": {
        "id": "a650d10a",
        "colab": {
          "base_uri": "https://localhost:8080/"
        },
        "outputId": "c5a4add7-f03d-42e4-a5ec-c244761896f8"
      },
      "outputs": [
        {
          "output_type": "stream",
          "name": "stdout",
          "text": [
            "True\n",
            "True\n"
          ]
        }
      ],
      "source": [
        "def is_vowel(char):\n",
        "    return char.lower() in 'aeiou'\n",
        "\n",
        "print(is_vowel('a'))\n",
        "print(is_vowel('i'))\n"
      ]
    },
    {
      "cell_type": "markdown",
      "id": "d75d7c34",
      "metadata": {
        "id": "d75d7c34"
      },
      "source": [
        "\n",
        "```\n",
        "# 23 Value in Group Tester\n",
        "\n",
        "\n",
        "```\n",
        "\n",
        "\n",
        "\n",
        "\n"
      ]
    },
    {
      "cell_type": "code",
      "execution_count": 15,
      "id": "421edf2d",
      "metadata": {
        "id": "421edf2d",
        "colab": {
          "base_uri": "https://localhost:8080/"
        },
        "outputId": "893625b5-d7f4-4d77-e2d3-54087d5a4ae1"
      },
      "outputs": [
        {
          "output_type": "stream",
          "name": "stdout",
          "text": [
            "True\n",
            "False\n"
          ]
        }
      ],
      "source": [
        "def is_value_in_group(value, group):\n",
        "    return value in group\n",
        "\n",
        "print(is_value_in_group(3, [1, 5, 8, 3]))\n",
        "print(is_value_in_group(4, [1, 5, 8, 3]))\n"
      ]
    },
    {
      "cell_type": "markdown",
      "id": "0ce91d2f",
      "metadata": {
        "id": "0ce91d2f"
      },
      "source": [
        "\n",
        "\n",
        "\n",
        "```\n",
        "# 24 List Histogram\n",
        "\n",
        "```\n",
        "\n",
        "\n",
        "\n",
        "\n",
        "\n"
      ]
    },
    {
      "cell_type": "code",
      "execution_count": 16,
      "id": "8b37ebb9",
      "metadata": {
        "id": "8b37ebb9",
        "outputId": "57878126-ca4e-4995-c5a8-0dc0630312d6",
        "colab": {
          "base_uri": "https://localhost:8080/"
        }
      },
      "outputs": [
        {
          "output_type": "stream",
          "name": "stdout",
          "text": [
            "****\n",
            "*****\n",
            "***\n",
            "******\n"
          ]
        }
      ],
      "source": [
        "def histogram(items):\n",
        "    for n in items:\n",
        "        print('*' * n)\n",
        "\n",
        "histogram([4, 5, 3, 6])\n"
      ]
    },
    {
      "cell_type": "markdown",
      "source": [
        "#  Assignment List and tupul"
      ],
      "metadata": {
        "id": "39_3qPSgs2aB"
      },
      "id": "39_3qPSgs2aB"
    },
    {
      "cell_type": "code",
      "source": [
        "student_marks = [\n",
        "    ['Name', 'A', 'B', 'C', 'D', 'E'],\n",
        "    ['Ankit', 41, 34, 45, 55, 63],\n",
        "    ['Aravind', 42, 23, 34, 44, 53],\n",
        "    ['Lakshay', 32, 23, 13, 54, 67],\n",
        "    ['Gyan', 23, 82, 23, 63, 34],\n",
        "    ['Pranav', 21, 23, 25, 56, 56]\n",
        "]\n",
        "\n",
        "data = student_marks[1:]"
      ],
      "metadata": {
        "id": "pQHrJLkkJcEv"
      },
      "id": "pQHrJLkkJcEv",
      "execution_count": 21,
      "outputs": []
    },
    {
      "cell_type": "code",
      "source": [
        "marks_b = [student[2] for student in data]\n",
        "highest_marks_b = max(marks_b)\n",
        "highest_scorer_b = [student[0] for student in data if student[2] == highest_marks_b][0]\n",
        "print(f\"Highest in B: {highest_scorer_b} with {highest_marks_b} marks.\")"
      ],
      "metadata": {
        "colab": {
          "base_uri": "https://localhost:8080/"
        },
        "id": "8nOpHzU6JcVE",
        "outputId": "0cc7f9a9-dec6-4503-a057-d2dedde78525"
      },
      "id": "8nOpHzU6JcVE",
      "execution_count": 22,
      "outputs": [
        {
          "output_type": "stream",
          "name": "stdout",
          "text": [
            "Highest in B: Gyan with 82 marks.\n"
          ]
        }
      ]
    },
    {
      "cell_type": "code",
      "source": [
        "marks_c = [student[3] for student in data]\n",
        "average_marks_c = sum(marks_c) / len(marks_c)\n",
        "print(f\"Average in C: {average_marks_c:.2f}\")"
      ],
      "metadata": {
        "colab": {
          "base_uri": "https://localhost:8080/"
        },
        "id": "LN36CHYjJccl",
        "outputId": "8de1f7b4-7dab-44db-d4a0-69b3d653cb26"
      },
      "id": "LN36CHYjJccl",
      "execution_count": 23,
      "outputs": [
        {
          "output_type": "stream",
          "name": "stdout",
          "text": [
            "Average in C: 28.00\n"
          ]
        }
      ]
    },
    {
      "cell_type": "code",
      "source": [
        "percentages = [(student[0], sum(student[1:]) / 500 * 100) for student in data]\n",
        "highest_percentage_scorer, highest_percentage = max(percentages, key=lambda item: item[1])\n",
        "print(f\"Highest Percentage: {highest_percentage_scorer} with {highest_percentage:.2f}%\")"
      ],
      "metadata": {
        "colab": {
          "base_uri": "https://localhost:8080/"
        },
        "id": "thFJ2BGgKgct",
        "outputId": "68b2aad4-9504-4eb8-a3a4-489c0c5b5f5e"
      },
      "id": "thFJ2BGgKgct",
      "execution_count": 24,
      "outputs": [
        {
          "output_type": "stream",
          "name": "stdout",
          "text": [
            "Highest Percentage: Ankit with 47.60%\n"
          ]
        }
      ]
    },
    {
      "cell_type": "code",
      "source": [
        "top4_percentages = []\n",
        "for student in data:\n",
        "    name = student[0]\n",
        "    marks = sorted(student[1:], reverse=True)\n",
        "    top4_total = sum(marks[:4])\n",
        "    percentage_top4 = (top4_total / 400) * 100\n",
        "    top4_percentages.append((name, percentage_top4))\n",
        "    highest_scorer_top4, highest_percentage_top4 = max(top4_percentages, key=lambda item: item[1])\n",
        "print(f\"Highest Top-4 Percentage: {highest_scorer_top4} with {highest_percentage_top4:.2f}%\")"
      ],
      "metadata": {
        "colab": {
          "base_uri": "https://localhost:8080/"
        },
        "id": "R0_p0xwaKk27",
        "outputId": "86e5aae1-83d9-4d1c-b04e-83c37468b713"
      },
      "id": "R0_p0xwaKk27",
      "execution_count": 25,
      "outputs": [
        {
          "output_type": "stream",
          "name": "stdout",
          "text": [
            "Highest Top-4 Percentage: Ankit with 51.00%\n"
          ]
        }
      ]
    },
    {
      "cell_type": "markdown",
      "source": [
        "#Pattern Printing Assignments in Python"
      ],
      "metadata": {
        "id": "jIkT45lqYpj2"
      },
      "id": "jIkT45lqYpj2"
    },
    {
      "cell_type": "code",
      "source": [
        "# Pattern: Right-Angled Half Pyramid\n",
        "rows = int(input(\"Enter number of rows: \"))\n",
        "for i in range(1, rows + 1):\n",
        "    print(\"* \" * i)"
      ],
      "metadata": {
        "colab": {
          "base_uri": "https://localhost:8080/"
        },
        "id": "ilQWorJuYkDq",
        "outputId": "7d68e20e-c3d6-4c38-e11a-60b135d3d71e"
      },
      "id": "ilQWorJuYkDq",
      "execution_count": 26,
      "outputs": [
        {
          "output_type": "stream",
          "name": "stdout",
          "text": [
            "Enter number of rows: 5\n",
            "* \n",
            "* * \n",
            "* * * \n",
            "* * * * \n",
            "* * * * * \n"
          ]
        }
      ]
    },
    {
      "cell_type": "code",
      "source": [
        "#Pattern: Inverted Half Pyramid\n",
        "rows = int(input(\"Enter number of rows: \"))\n",
        "for i in range(rows, 0, -1):\n",
        "    print(\"* \" * i)\n"
      ],
      "metadata": {
        "colab": {
          "base_uri": "https://localhost:8080/"
        },
        "id": "ZIYnUJOwYkQH",
        "outputId": "369894d8-4edb-4125-e91f-3a7ae89d2942"
      },
      "id": "ZIYnUJOwYkQH",
      "execution_count": 27,
      "outputs": [
        {
          "output_type": "stream",
          "name": "stdout",
          "text": [
            "Enter number of rows: 7\n",
            "* * * * * * * \n",
            "* * * * * * \n",
            "* * * * * \n",
            "* * * * \n",
            "* * * \n",
            "* * \n",
            "* \n"
          ]
        }
      ]
    },
    {
      "cell_type": "code",
      "source": [
        "#Pattern: Right-Aligned Half Pyramid\n",
        "rows = int(input(\"Enter number of rows: \"))\n",
        "for i in range(1, rows + 1):\n",
        "    print(\"  \" * (rows - i) + \"* \" * i)"
      ],
      "metadata": {
        "colab": {
          "base_uri": "https://localhost:8080/"
        },
        "id": "mpJoCo1fYkqM",
        "outputId": "ae560fd1-c753-40fb-e8a1-4b844b02589f"
      },
      "id": "mpJoCo1fYkqM",
      "execution_count": 28,
      "outputs": [
        {
          "output_type": "stream",
          "name": "stdout",
          "text": [
            "Enter number of rows: 7\n",
            "            * \n",
            "          * * \n",
            "        * * * \n",
            "      * * * * \n",
            "    * * * * * \n",
            "  * * * * * * \n",
            "* * * * * * * \n"
          ]
        }
      ]
    },
    {
      "cell_type": "code",
      "source": [
        "# Pattern: Full Pyramid\n",
        "rows = int(input(\"Enter number of rows: \"))\n",
        "for i in range(rows):\n",
        "    print(\"  \" * (rows - i - 1) + \"* \" * (2 * i + 1))\n"
      ],
      "metadata": {
        "colab": {
          "base_uri": "https://localhost:8080/"
        },
        "id": "WoPOF_k3Yk32",
        "outputId": "3f6323a6-0d7d-4b00-ff51-7ebd31ae1269"
      },
      "id": "WoPOF_k3Yk32",
      "execution_count": 29,
      "outputs": [
        {
          "output_type": "stream",
          "name": "stdout",
          "text": [
            "Enter number of rows: 7\n",
            "            * \n",
            "          * * * \n",
            "        * * * * * \n",
            "      * * * * * * * \n",
            "    * * * * * * * * * \n",
            "  * * * * * * * * * * * \n",
            "* * * * * * * * * * * * * \n"
          ]
        }
      ]
    },
    {
      "cell_type": "code",
      "source": [
        "# Pattern: Hollow Pyramid\n",
        "rows = int(input(\"Enter number of rows: \"))\n",
        "for i in range(rows):\n",
        "    for j in range(rows - i - 1):\n",
        "        print(\" \", end=\" \")\n",
        "    for k in range(2 * i + 1):\n",
        "        if k == 0 or k == 2 * i or i == rows - 1:\n",
        "            print(\"*\", end=\" \")\n",
        "        else:\n",
        "            print(\" \", end=\" \")\n",
        "    print()\n"
      ],
      "metadata": {
        "colab": {
          "base_uri": "https://localhost:8080/"
        },
        "id": "_FC63kHdYk_i",
        "outputId": "6702da02-5d04-4e5a-b850-c23198778508"
      },
      "id": "_FC63kHdYk_i",
      "execution_count": 30,
      "outputs": [
        {
          "output_type": "stream",
          "name": "stdout",
          "text": [
            "Enter number of rows: 7\n",
            "            * \n",
            "          *   * \n",
            "        *       * \n",
            "      *           * \n",
            "    *               * \n",
            "  *                   * \n",
            "* * * * * * * * * * * * * \n"
          ]
        }
      ]
    },
    {
      "cell_type": "code",
      "source": [
        "# Pattern: Diamond Shape\n",
        "rows = int(input(\"Enter number of rows: \"))\n",
        "for i in range(1, rows + 1):\n",
        "    print(\" \" * (rows - i) + \"* \" * i)\n",
        "for i in range(rows - 1, 0, -1):\n",
        "    print(\" \" * (rows - i) + \"* \" * i)\n"
      ],
      "metadata": {
        "colab": {
          "base_uri": "https://localhost:8080/"
        },
        "id": "UM5DqkPEaTap",
        "outputId": "f51644b0-29b5-44cd-b15b-04a335d794b0"
      },
      "id": "UM5DqkPEaTap",
      "execution_count": 32,
      "outputs": [
        {
          "output_type": "stream",
          "name": "stdout",
          "text": [
            "Enter number of rows: 4\n",
            "   * \n",
            "  * * \n",
            " * * * \n",
            "* * * * \n",
            " * * * \n",
            "  * * \n",
            "   * \n"
          ]
        }
      ]
    },
    {
      "cell_type": "code",
      "source": [
        "#  Pattern: Number Half Pyramid\n",
        "rows = int(input(\"Enter number of rows: \"))\n",
        "for i in range(1, rows + 1):\n",
        "    for j in range(1, i + 1):\n",
        "        print(j, end=\" \")\n",
        "    print()\n"
      ],
      "metadata": {
        "colab": {
          "base_uri": "https://localhost:8080/"
        },
        "id": "niuIicFoaTnf",
        "outputId": "5e5af170-3f20-4c61-cea7-37a17bbc2d57"
      },
      "id": "niuIicFoaTnf",
      "execution_count": 33,
      "outputs": [
        {
          "output_type": "stream",
          "name": "stdout",
          "text": [
            "Enter number of rows: 5\n",
            "1 \n",
            "1 2 \n",
            "1 2 3 \n",
            "1 2 3 4 \n",
            "1 2 3 4 5 \n"
          ]
        }
      ]
    },
    {
      "cell_type": "markdown",
      "source": [
        "#Python_Intern_Assignment_2"
      ],
      "metadata": {
        "id": "cqrjGtB7iYWI"
      },
      "id": "cqrjGtB7iYWI"
    },
    {
      "cell_type": "markdown",
      "source": [
        "\n",
        "\n",
        "```\n",
        "# Level 1: Python Basics\n",
        "```\n",
        "\n"
      ],
      "metadata": {
        "id": "-rADduvHiHbY"
      },
      "id": "-rADduvHiHbY"
    },
    {
      "cell_type": "code",
      "source": [
        "num1 = float(input(\"Enter first number: \"))\n",
        "num2 = float(input(\"Enter second number: \"))\n",
        "\n",
        "print(\"Addition:\", num1 + num2)\n",
        "print(\"Subtraction:\", num1 - num2)\n",
        "print(\"Multiplication:\", num1 * num2)\n",
        "print(\"Division:\", num1 / num2 if num2 != 0 else \"Cannot divide by zero\")\n"
      ],
      "metadata": {
        "colab": {
          "base_uri": "https://localhost:8080/"
        },
        "id": "FP8CtPdgaUm9",
        "outputId": "73a9997b-5c62-44ff-914a-678e15c7cf3d"
      },
      "id": "FP8CtPdgaUm9",
      "execution_count": 35,
      "outputs": [
        {
          "output_type": "stream",
          "name": "stdout",
          "text": [
            "Enter first number: 24\n",
            "Enter second number: 12\n",
            "Addition: 36.0\n",
            "Subtraction: 12.0\n",
            "Multiplication: 288.0\n",
            "Division: 2.0\n"
          ]
        }
      ]
    },
    {
      "cell_type": "code",
      "source": [
        "num = int(input(\"Enter a number: \"))\n",
        "if num % 2 == 0:\n",
        "    print(\"Even\")\n",
        "else:\n",
        "    print(\"Odd\")\n"
      ],
      "metadata": {
        "colab": {
          "base_uri": "https://localhost:8080/"
        },
        "id": "nD5EdVG-aU2k",
        "outputId": "3f2ce290-b22f-4935-9bb6-858a40100e41"
      },
      "id": "nD5EdVG-aU2k",
      "execution_count": 36,
      "outputs": [
        {
          "output_type": "stream",
          "name": "stdout",
          "text": [
            "Enter a number: 69\n",
            "Odd\n"
          ]
        }
      ]
    },
    {
      "cell_type": "markdown",
      "source": [
        "\n",
        "```\n",
        "# Voting Eligibility\n",
        "```"
      ],
      "metadata": {
        "id": "qXs6PLIbjdS4"
      },
      "id": "qXs6PLIbjdS4"
    },
    {
      "cell_type": "code",
      "source": [
        "age = int(input(\"Enter your age: \"))\n",
        "\n",
        "if age >= 18:\n",
        "    print(\"Eligible to vote\")\n",
        "else:\n",
        "    print(\"Not eligible to vote\")"
      ],
      "metadata": {
        "colab": {
          "base_uri": "https://localhost:8080/"
        },
        "id": "qNAU4U92aVBo",
        "outputId": "94bb950d-906e-40c6-fafe-2dd079839676"
      },
      "id": "qNAU4U92aVBo",
      "execution_count": 37,
      "outputs": [
        {
          "output_type": "stream",
          "name": "stdout",
          "text": [
            "Enter your age: 22\n",
            "Eligible to vote\n"
          ]
        }
      ]
    },
    {
      "cell_type": "markdown",
      "source": [
        "\n",
        "\n",
        "```\n",
        "# Swap Variables\n",
        "```\n",
        "\n"
      ],
      "metadata": {
        "id": "1Wn_sJdxkQ1f"
      },
      "id": "1Wn_sJdxkQ1f"
    },
    {
      "cell_type": "code",
      "source": [
        "a = 5\n",
        "b = 10\n",
        "temp = a\n",
        "a = b\n",
        "b = temp\n",
        "print(\"After swap using third variable:\", a, b)\n",
        "a, b = b, a\n",
        "print(\"After swap without third variable:\", a, b)\n"
      ],
      "metadata": {
        "colab": {
          "base_uri": "https://localhost:8080/"
        },
        "id": "jzWk9374kA9a",
        "outputId": "a3d3ba26-43ee-4227-bb44-dfc29047eab1"
      },
      "id": "jzWk9374kA9a",
      "execution_count": 38,
      "outputs": [
        {
          "output_type": "stream",
          "name": "stdout",
          "text": [
            "After swap using third variable: 10 5\n",
            "After swap without third variable: 5 10\n"
          ]
        }
      ]
    },
    {
      "cell_type": "markdown",
      "source": [
        "\n",
        "\n",
        "```\n",
        "# Level 2: Loops and Functions\n",
        "Multiplication Table\n",
        "\n",
        "\n",
        "```\n",
        "\n"
      ],
      "metadata": {
        "id": "SMrwClpNkm12"
      },
      "id": "SMrwClpNkm12"
    },
    {
      "cell_type": "code",
      "source": [
        "num = int(input(\"Enter a number: \"))\n",
        "\n",
        "for i in range(1, 11):\n",
        "    print(f\"{num} x {i} = {num * i}\")"
      ],
      "metadata": {
        "colab": {
          "base_uri": "https://localhost:8080/"
        },
        "id": "GKALQsFRkzum",
        "outputId": "b6bfaa17-2504-4bd6-9b6a-c4b7e1e8300d"
      },
      "id": "GKALQsFRkzum",
      "execution_count": 41,
      "outputs": [
        {
          "output_type": "stream",
          "name": "stdout",
          "text": [
            "Enter a number: 69\n",
            "69 x 1 = 69\n",
            "69 x 2 = 138\n",
            "69 x 3 = 207\n",
            "69 x 4 = 276\n",
            "69 x 5 = 345\n",
            "69 x 6 = 414\n",
            "69 x 7 = 483\n",
            "69 x 8 = 552\n",
            "69 x 9 = 621\n",
            "69 x 10 = 690\n"
          ]
        }
      ]
    },
    {
      "cell_type": "markdown",
      "source": [
        "\n",
        "\n",
        "```\n",
        "# Prime Number Checker\n",
        "```\n",
        "\n"
      ],
      "metadata": {
        "id": "qvXsCDsroFwM"
      },
      "id": "qvXsCDsroFwM"
    },
    {
      "cell_type": "code",
      "source": [
        "num = int(input(\"Enter a number: \"))\n",
        "is_prime = True\n",
        "if num <= 1:\n",
        "    is_prime = False\n",
        "else:\n",
        "    for i in range(2, int(num**0.5) + 1):\n",
        "        if num % i == 0:\n",
        "            is_prime = False\n",
        "            break\n",
        "print(\"Prime\" if is_prime else \"Not Prime\")"
      ],
      "metadata": {
        "colab": {
          "base_uri": "https://localhost:8080/"
        },
        "id": "Jc-mWShNoAqA",
        "outputId": "3f50800d-024a-494a-9b68-8a5a46efd6f9"
      },
      "id": "Jc-mWShNoAqA",
      "execution_count": 42,
      "outputs": [
        {
          "output_type": "stream",
          "name": "stdout",
          "text": [
            "Enter a number: 69\n",
            "Not Prime\n"
          ]
        }
      ]
    },
    {
      "cell_type": "markdown",
      "source": [
        "\n",
        "\n",
        "```\n",
        "# Factorial Calculation\n",
        "```\n",
        "\n"
      ],
      "metadata": {
        "id": "kV_iutzFoEfD"
      },
      "id": "kV_iutzFoEfD"
    },
    {
      "cell_type": "code",
      "source": [
        "num = int(input(\"Enter a number: \"))\n",
        "factorial = 1\n",
        "\n",
        "for i in range(1, num + 1):\n",
        "    factorial *= i\n",
        "print(\"Factorial:\", factorial)"
      ],
      "metadata": {
        "colab": {
          "base_uri": "https://localhost:8080/"
        },
        "id": "rTWNQYHRsLhe",
        "outputId": "f789af5b-ae67-4088-df08-8eeea22704be"
      },
      "id": "rTWNQYHRsLhe",
      "execution_count": 44,
      "outputs": [
        {
          "output_type": "stream",
          "name": "stdout",
          "text": [
            "Enter a number: 7\n",
            "Factorial: 5040\n"
          ]
        }
      ]
    },
    {
      "cell_type": "markdown",
      "source": [
        "\n",
        "\n",
        "```\n",
        "# Fibonacci Series\n",
        "```\n",
        "\n"
      ],
      "metadata": {
        "id": "7q91C7RjsarC"
      },
      "id": "7q91C7RjsarC"
    },
    {
      "cell_type": "code",
      "source": [
        "n = int(input(\"Enter number of terms: \"))\n",
        "a, b = 0, 1\n",
        "for _ in range(n):\n",
        "    print(a, end=\" \")\n",
        "    a, b = b, a + b"
      ],
      "metadata": {
        "colab": {
          "base_uri": "https://localhost:8080/"
        },
        "id": "8ROJmvplsY8T",
        "outputId": "e872637b-a389-48dd-a145-23cd6f00c685"
      },
      "id": "8ROJmvplsY8T",
      "execution_count": 45,
      "outputs": [
        {
          "output_type": "stream",
          "name": "stdout",
          "text": [
            "Enter number of terms: 7\n",
            "0 1 1 2 3 5 8 "
          ]
        }
      ]
    },
    {
      "cell_type": "markdown",
      "source": [
        "\n",
        "\n",
        "```\n",
        "# Level 3: Data Structures and Strings\n",
        "Palindrome Checker\n",
        "```\n",
        "\n"
      ],
      "metadata": {
        "id": "7mMWhP4dtJOe"
      },
      "id": "7mMWhP4dtJOe"
    },
    {
      "cell_type": "code",
      "source": [
        "text = input(\"Enter a string: \").lower()\n",
        "if text == text[::-1]:\n",
        "    print(\"Palindrome\")\n",
        "else:\n",
        "    print(\"Not a palindrome\")"
      ],
      "metadata": {
        "colab": {
          "base_uri": "https://localhost:8080/"
        },
        "id": "Ilvt7TNysZca",
        "outputId": "7da80e73-25f7-493a-a083-bc87355b5fab"
      },
      "id": "Ilvt7TNysZca",
      "execution_count": 50,
      "outputs": [
        {
          "output_type": "stream",
          "name": "stdout",
          "text": [
            "Enter a string: Noon\n",
            "Palindrome\n"
          ]
        }
      ]
    },
    {
      "cell_type": "markdown",
      "source": [
        "\n",
        "\n",
        "```\n",
        "# Word Frequency Counter\n",
        "```\n",
        "\n"
      ],
      "metadata": {
        "id": "aY534VSEtb_3"
      },
      "id": "aY534VSEtb_3"
    },
    {
      "cell_type": "code",
      "source": [
        "sentence = input(\"Enter a sentence: \").lower()\n",
        "words = sentence.split()\n",
        "word_count = {}\n",
        "for word in words:\n",
        "    word_count[word] = word_count.get(word, 0) + 1\n",
        "print(word_count)\n"
      ],
      "metadata": {
        "colab": {
          "base_uri": "https://localhost:8080/"
        },
        "id": "t2gSDN2XsZn-",
        "outputId": "eabbec9a-c8a8-4017-b9f2-ac8a40c27b27"
      },
      "id": "t2gSDN2XsZn-",
      "execution_count": 53,
      "outputs": [
        {
          "output_type": "stream",
          "name": "stdout",
          "text": [
            "Enter a sentence: my name is infant and some call me anto\n",
            "{'my': 1, 'name': 1, 'is': 1, 'infant': 1, 'and': 1, 'some': 1, 'call': 1, 'me': 1, 'anto': 1}\n"
          ]
        }
      ]
    },
    {
      "cell_type": "markdown",
      "source": [
        "\n",
        "\n",
        "```\n",
        "# Level 4: File Handling & Exceptions\n",
        "Text File Read/Write\n",
        "```\n",
        "\n"
      ],
      "metadata": {
        "id": "F92FEDncwTHq"
      },
      "id": "F92FEDncwTHq"
    },
    {
      "cell_type": "code",
      "source": [
        "filename = \"sample.txt\"\n",
        "text = input(\"Enter some text to write to the file: \")\n",
        "with open(filename, \"w\") as f:\n",
        "    f.write(text)\n",
        "with open(filename, \"r\") as f:\n",
        "    content = f.read()\n",
        "    print(\"File content:\", content)"
      ],
      "metadata": {
        "colab": {
          "base_uri": "https://localhost:8080/"
        },
        "id": "R5zFnO-CwZNM",
        "outputId": "c9b541c5-4835-403e-f4c3-bc9ef6e052cc"
      },
      "id": "R5zFnO-CwZNM",
      "execution_count": 55,
      "outputs": [
        {
          "output_type": "stream",
          "name": "stdout",
          "text": [
            "Enter some text to write to the file: data\n",
            "File content: data\n"
          ]
        }
      ]
    },
    {
      "cell_type": "markdown",
      "source": [
        "\n",
        "\n",
        "```\n",
        "# Exception Handling\n",
        "```\n",
        "\n"
      ],
      "metadata": {
        "id": "KFmOb7Hmw4Hg"
      },
      "id": "KFmOb7Hmw4Hg"
    },
    {
      "cell_type": "code",
      "source": [
        "try:\n",
        "    a = float(input(\"Enter numerator: \"))\n",
        "    b = float(input(\"Enter denominator: \"))\n",
        "    result = a / b\n",
        "    print(\"Result:\", result)\n",
        "except ZeroDivisionError:\n",
        "    print(\"Error: Cannot divide by zero.\")\n",
        "except ValueError:\n",
        "    print(\"Invalid input. Please enter numbers.\")"
      ],
      "metadata": {
        "colab": {
          "base_uri": "https://localhost:8080/"
        },
        "id": "JuF9gMZewoes",
        "outputId": "9f0a36e2-a8f6-42fb-d70e-068702f8ea33"
      },
      "id": "JuF9gMZewoes",
      "execution_count": 56,
      "outputs": [
        {
          "output_type": "stream",
          "name": "stdout",
          "text": [
            "Enter numerator: 0\n",
            "Enter denominator: 9\n",
            "Result: 0.0\n"
          ]
        }
      ]
    },
    {
      "cell_type": "markdown",
      "source": [
        "\n",
        "\n",
        "```\n",
        "# Level 5: OOP and API\n",
        "Bank Account Class\n",
        "```\n",
        "\n"
      ],
      "metadata": {
        "id": "9P3UgZh3xL5F"
      },
      "id": "9P3UgZh3xL5F"
    },
    {
      "cell_type": "code",
      "source": [
        "# Guided Code\n",
        "class BankAccount:\n",
        "    def __init__(self, owner, balance=0):\n",
        "        self.owner = owner\n",
        "        self.balance = balance\n",
        "\n",
        "    def deposit(self, amount):\n",
        "        self.balance += amount\n",
        "\n",
        "    def withdraw(self, amount):\n",
        "        if amount <= self.balance:\n",
        "            self.balance -= amount\n",
        "        else:\n",
        "            print(\"Insufficient balance\")\n",
        "\n",
        "    def show_balance(self):\n",
        "        print(f\"Account balance: ₹{self.balance}\")\n",
        "\n",
        "# Sample usage\n",
        "acc = BankAccount(\"Alice\", 1000)\n",
        "acc.deposit(500)\n",
        "acc.withdraw(200)\n",
        "acc.show_balance()\n"
      ],
      "metadata": {
        "colab": {
          "base_uri": "https://localhost:8080/"
        },
        "id": "hKpms4uixF7m",
        "outputId": "b369353d-79c6-4227-c1e9-9bc3100abac8"
      },
      "id": "hKpms4uixF7m",
      "execution_count": 57,
      "outputs": [
        {
          "output_type": "stream",
          "name": "stdout",
          "text": [
            "Account balance: ₹1300\n"
          ]
        }
      ]
    },
    {
      "cell_type": "markdown",
      "source": [
        "\n",
        "\n",
        "```\n",
        "Python Interview Preparation – Top Assignments with Guidance\n",
        "#  Anagram Checker\n",
        "```\n",
        "\n"
      ],
      "metadata": {
        "id": "HxeosogjzI0T"
      },
      "id": "HxeosogjzI0T"
    },
    {
      "cell_type": "code",
      "source": [
        "#  Anagram Checker\n",
        "def is_anagram(str1, str2):\n",
        "    return sorted(str1.replace(\" \", \"\").lower()) == sorted(str2.replace(\" \", \"\").lower())\n",
        "print(is_anagram(\"Listen\", \"Silent\"))\n",
        "\n",
        "print(is_anagram(\"Listen\", \"Silent\"))"
      ],
      "metadata": {
        "colab": {
          "base_uri": "https://localhost:8080/"
        },
        "id": "XA2Ik9JmzJZA",
        "outputId": "d88a833c-b2cf-4163-f77a-d9450d446298"
      },
      "id": "XA2Ik9JmzJZA",
      "execution_count": 65,
      "outputs": [
        {
          "output_type": "stream",
          "name": "stdout",
          "text": [
            "True\n",
            "True\n"
          ]
        }
      ]
    },
    {
      "cell_type": "code",
      "source": [
        "# 🔍 Find Duplicates\n",
        "def find_duplicates(lst):\n",
        "    seen = set()\n",
        "    duplicates = set()\n",
        "    for num in lst:\n",
        "        if num in seen:\n",
        "            duplicates.add(num)\n",
        "        else:\n",
        "            seen.add(num)\n",
        "    return list(duplicates)\n",
        "print(find_duplicates([1, 2, 3, 2, 4, 5, 1]))\n"
      ],
      "metadata": {
        "colab": {
          "base_uri": "https://localhost:8080/"
        },
        "id": "OIF5n1kgzqMR",
        "outputId": "c3364f04-a3da-447c-d8a3-5ac943b4e7c4"
      },
      "id": "OIF5n1kgzqMR",
      "execution_count": 66,
      "outputs": [
        {
          "output_type": "stream",
          "name": "stdout",
          "text": [
            "[1, 2]\n"
          ]
        }
      ]
    },
    {
      "cell_type": "code",
      "source": [
        "#First Non-Repeating Character\n",
        "from collections import Counter\n",
        "def first_non_repeating_char(s):\n",
        "    freq = Counter(s)\n",
        "    for ch in s:\n",
        "        if freq[ch] == 1:\n",
        "            return ch\n",
        "    return None\n",
        "print(first_non_repeating_char(\"giemtabkutumtum\"))"
      ],
      "metadata": {
        "colab": {
          "base_uri": "https://localhost:8080/"
        },
        "id": "qAgDkHRYzqbT",
        "outputId": "34faa0ac-988a-438a-b8b5-eabff3facf51"
      },
      "id": "qAgDkHRYzqbT",
      "execution_count": 67,
      "outputs": [
        {
          "output_type": "stream",
          "name": "stdout",
          "text": [
            "g\n"
          ]
        }
      ]
    },
    {
      "cell_type": "code",
      "source": [
        "#Fibonacci with Memoization\n",
        "def fib(n, memo={}):\n",
        "    if n in memo:\n",
        "        return memo[n]\n",
        "    if n <= 1:\n",
        "        return n\n",
        "    memo[n] = fib(n - 1, memo) + fib(n - 2, memo)\n",
        "    return memo[n]\n",
        "print(fib(69))"
      ],
      "metadata": {
        "colab": {
          "base_uri": "https://localhost:8080/"
        },
        "id": "oxSa1nbPzqkY",
        "outputId": "ad1708bc-b182-4ba1-af96-d866d1838aac"
      },
      "id": "oxSa1nbPzqkY",
      "execution_count": 69,
      "outputs": [
        {
          "output_type": "stream",
          "name": "stdout",
          "text": [
            "117669030460994\n"
          ]
        }
      ]
    },
    {
      "cell_type": "code",
      "source": [
        "#Two Sum Problem\n",
        "def two_sum(nums, target):\n",
        "    seen = {}\n",
        "    for num in nums:\n",
        "        diff = target - num\n",
        "        if diff in seen:\n",
        "            return (diff, num)\n",
        "        seen[num] = True\n",
        "print(two_sum([2, 7, 11, 15], 18))\n"
      ],
      "metadata": {
        "colab": {
          "base_uri": "https://localhost:8080/"
        },
        "id": "Z7hM49VWzqss",
        "outputId": "86d27095-1755-4b70-8b3d-7248240d523a"
      },
      "id": "Z7hM49VWzqss",
      "execution_count": 71,
      "outputs": [
        {
          "output_type": "stream",
          "name": "stdout",
          "text": [
            "(7, 11)\n"
          ]
        }
      ]
    },
    {
      "cell_type": "code",
      "source": [
        "##  Roman to Integer\n",
        "def roman_to_int(s):\n",
        "    roman = {'I': 1, 'V': 5, 'X': 10, 'L': 50,\n",
        "             'C': 100, 'D': 500, 'M': 1000}\n",
        "    total = 0\n",
        "    prev_value = 0\n",
        "    for char in reversed(s):\n",
        "        if roman[char] < prev_value:\n",
        "            total -= roman[char]\n",
        "        else:\n",
        "            total += roman[char]\n",
        "        prev_value = roman[char]\n",
        "    return total\n",
        "print(roman_to_int(\"XVI\"))"
      ],
      "metadata": {
        "colab": {
          "base_uri": "https://localhost:8080/"
        },
        "id": "x_S2K1JLzq0w",
        "outputId": "ca99de48-74e8-42d0-937d-babe8313e6ad"
      },
      "id": "x_S2K1JLzq0w",
      "execution_count": 73,
      "outputs": [
        {
          "output_type": "stream",
          "name": "stdout",
          "text": [
            "16\n"
          ]
        }
      ]
    },
    {
      "cell_type": "code",
      "source": [
        "#Reverse List (Simulated Linked List)\n",
        "def reverse_list(lst):\n",
        "    return lst[::-1]\n",
        "print(reverse_list([1, 2, 3, 4, 5]))"
      ],
      "metadata": {
        "colab": {
          "base_uri": "https://localhost:8080/"
        },
        "id": "xrd6QTe5zq9c",
        "outputId": "6073be81-9f70-4e0e-ae23-c9ed50cdd7a1"
      },
      "id": "xrd6QTe5zq9c",
      "execution_count": 74,
      "outputs": [
        {
          "output_type": "stream",
          "name": "stdout",
          "text": [
            "[5, 4, 3, 2, 1]\n"
          ]
        }
      ]
    },
    {
      "cell_type": "code",
      "source": [
        "# Balanced Parentheses\n",
        "def is_balanced(expr):\n",
        "    stack = []\n",
        "    for char in expr:\n",
        "        if char == '(':\n",
        "            stack.append(char)\n",
        "        elif char == ')':\n",
        "            if not stack:\n",
        "                return False\n",
        "            stack.pop()\n",
        "    return not stack\n",
        "print(is_balanced(\"(())()\"))\n",
        "print(is_balanced(\"(()\"))\n",
        "\n"
      ],
      "metadata": {
        "colab": {
          "base_uri": "https://localhost:8080/"
        },
        "id": "XiTOCKK91lGh",
        "outputId": "e796882c-b3f9-4040-c2ad-e24c5984ae3a"
      },
      "id": "XiTOCKK91lGh",
      "execution_count": 75,
      "outputs": [
        {
          "output_type": "stream",
          "name": "stdout",
          "text": [
            "True\n",
            "False\n"
          ]
        }
      ]
    },
    {
      "cell_type": "code",
      "source": [
        "#Character Frequency Sorter\n",
        "from collections import Counter\n",
        "def frequency_sort(s):\n",
        "    freq = Counter(s)\n",
        "    return ''.join(sorted(s, key=lambda x: (-freq[x], x)))\n",
        "print(frequency_sort(\"tree\"))"
      ],
      "metadata": {
        "colab": {
          "base_uri": "https://localhost:8080/"
        },
        "id": "wBWfTFzH1lU8",
        "outputId": "3c816989-a97a-43d8-b96a-ef9f3f943a7e"
      },
      "id": "wBWfTFzH1lU8",
      "execution_count": 76,
      "outputs": [
        {
          "output_type": "stream",
          "name": "stdout",
          "text": [
            "eert\n"
          ]
        }
      ]
    },
    {
      "cell_type": "code",
      "source": [
        "# Email Normalizer\n",
        "def normalize_emails(emails):\n",
        "    normalized = set()\n",
        "    for email in emails:\n",
        "        normalized.add(email.strip().lower())\n",
        "    return list(normalized)\n",
        "\n",
        "emails = [\"User@Gmail.com \", \"user@gmail.COM\", \"admin@yahoo.com\"]\n",
        "print(normalize_emails(emails))"
      ],
      "metadata": {
        "colab": {
          "base_uri": "https://localhost:8080/"
        },
        "id": "VYS_0AJA1lwv",
        "outputId": "e597f917-958a-4782-d427-ea8cd6244efc"
      },
      "id": "VYS_0AJA1lwv",
      "execution_count": 77,
      "outputs": [
        {
          "output_type": "stream",
          "name": "stdout",
          "text": [
            "['admin@yahoo.com', 'user@gmail.com']\n"
          ]
        }
      ]
    },
    {
      "cell_type": "markdown",
      "source": [
        "## Internship Assignment: Python File System - Reading Files\n",
        "## Part 1: Basic File Reading\n",
        "\n",
        "\n"
      ],
      "metadata": {
        "id": "WbZqfGBE6hlR"
      },
      "id": "WbZqfGBE6hlR"
    },
    {
      "cell_type": "code",
      "source": [
        "with open(\"sample.txt\", \"r\") as file:\n",
        "    content = file.read()\n",
        "    print(content)"
      ],
      "metadata": {
        "colab": {
          "base_uri": "https://localhost:8080/"
        },
        "id": "bjikmaY81mFY",
        "outputId": "9456723c-44e2-4029-800c-c4500e4902b7"
      },
      "id": "bjikmaY81mFY",
      "execution_count": 78,
      "outputs": [
        {
          "output_type": "stream",
          "name": "stdout",
          "text": [
            "data\n"
          ]
        }
      ]
    },
    {
      "cell_type": "code",
      "source": [
        "with open(\"sample.txt\", \"r\") as file:\n",
        "    line = file.readline()\n",
        "    while line:\n",
        "        print(line.strip())\n",
        "        line = file.readline()\n"
      ],
      "metadata": {
        "colab": {
          "base_uri": "https://localhost:8080/"
        },
        "id": "wpH3YLxP6jsx",
        "outputId": "a36aa127-1329-4b95-e3a1-4e4c708f0808"
      },
      "id": "wpH3YLxP6jsx",
      "execution_count": 79,
      "outputs": [
        {
          "output_type": "stream",
          "name": "stdout",
          "text": [
            "data\n"
          ]
        }
      ]
    },
    {
      "cell_type": "code",
      "source": [
        "with open(\"sample.txt\", \"r\") as file:\n",
        "    lines = file.readlines()\n",
        "    print(\"Total lines:\", len(lines))\n",
        "    print(lines)\n"
      ],
      "metadata": {
        "colab": {
          "base_uri": "https://localhost:8080/"
        },
        "id": "esQ-1_d56kH7",
        "outputId": "ec01f156-c185-4722-fea1-ad2d79be2047"
      },
      "id": "esQ-1_d56kH7",
      "execution_count": 80,
      "outputs": [
        {
          "output_type": "stream",
          "name": "stdout",
          "text": [
            "Total lines: 1\n",
            "['data']\n"
          ]
        }
      ]
    },
    {
      "cell_type": "code",
      "source": [
        "with open(\"sample.txt\", \"r\") as file:\n",
        "    for index, line in enumerate(file, 1):\n",
        "        print(f\"Line {index}: {line.strip()}\")\n"
      ],
      "metadata": {
        "colab": {
          "base_uri": "https://localhost:8080/"
        },
        "id": "Dc8GRN_a7PL-",
        "outputId": "b61cad1c-9b4d-4398-ee7a-9db9cdf500f9"
      },
      "id": "Dc8GRN_a7PL-",
      "execution_count": 81,
      "outputs": [
        {
          "output_type": "stream",
          "name": "stdout",
          "text": [
            "Line 1: data\n"
          ]
        }
      ]
    },
    {
      "cell_type": "code",
      "source": [
        "from pathlib import Path\n",
        "\n",
        "file_path = Path(\"sample.txt\")\n",
        "if file_path.exists():\n",
        "    print(\"File exists. Size:\", file_path.stat().st_size, \"bytes\")\n",
        "else:\n",
        "    print(\"File does not exist.\")\n"
      ],
      "metadata": {
        "colab": {
          "base_uri": "https://localhost:8080/"
        },
        "id": "K5VNf4Gu7Wxn",
        "outputId": "bfb99f33-9478-4ec9-df5a-c5af7bbe1587"
      },
      "id": "K5VNf4Gu7Wxn",
      "execution_count": 82,
      "outputs": [
        {
          "output_type": "stream",
          "name": "stdout",
          "text": [
            "File exists. Size: 4 bytes\n"
          ]
        }
      ]
    },
    {
      "cell_type": "markdown",
      "source": [
        "##Internship Assignment: Object-Oriented Programming (OOP) in Python"
      ],
      "metadata": {
        "id": "pb9USjGz7jWX"
      },
      "id": "pb9USjGz7jWX"
    },
    {
      "cell_type": "code",
      "source": [
        "#Example 1: Basic class definition\n",
        "class Student:\n",
        "    def __init__(self, name, roll):\n",
        "        self.name = name\n",
        "        self.roll = roll\n",
        "\n",
        "    def display(self):\n",
        "        print(f\"Name: {self.name}, Roll: {self.roll}\")\n",
        "\n",
        "# Create object\n",
        "s1 = Student(\"Infant Anto\", 3)\n",
        "s1.display()\n"
      ],
      "metadata": {
        "colab": {
          "base_uri": "https://localhost:8080/"
        },
        "id": "xoxaCiJR7tBN",
        "outputId": "119faa2b-b0ce-4783-8aa2-98624402d4b7"
      },
      "id": "xoxaCiJR7tBN",
      "execution_count": 87,
      "outputs": [
        {
          "output_type": "stream",
          "name": "stdout",
          "text": [
            "Name: Infant Anto, Roll: 3\n"
          ]
        }
      ]
    },
    {
      "cell_type": "code",
      "source": [
        "#Example 2: Using private members\n",
        "class Account:\n",
        "    def __init__(self, owner, balance):\n",
        "        self.owner = owner\n",
        "        self.__balance = balance\n",
        "\n",
        "    def deposit(self, amount):\n",
        "        self.__balance += amount\n",
        "\n",
        "    def get_balance(self):\n",
        "        return self.__balance\n",
        "\n",
        "acc = Account(\"Ravi\", 1000)\n",
        "acc.deposit(500)\n",
        "print(acc.get_balance())\n"
      ],
      "metadata": {
        "colab": {
          "base_uri": "https://localhost:8080/"
        },
        "id": "iZdDSTE17yOh",
        "outputId": "e5e1ef91-f0d4-4533-e01a-d2bcc209526e"
      },
      "id": "iZdDSTE17yOh",
      "execution_count": 88,
      "outputs": [
        {
          "output_type": "stream",
          "name": "stdout",
          "text": [
            "1500\n"
          ]
        }
      ]
    },
    {
      "cell_type": "code",
      "source": [
        "#Example 3: Inheriting from a parent class\n",
        "class Animal:\n",
        "    def speak(self):\n",
        "        print(\"Animal sound\")\n",
        "\n",
        "class Dog(Animal):\n",
        "    def speak(self):\n",
        "        print(\"Bark\")\n",
        "\n",
        "d = Dog()\n",
        "d.speak()\n",
        "\n"
      ],
      "metadata": {
        "colab": {
          "base_uri": "https://localhost:8080/"
        },
        "id": "K1mJK83o8L5s",
        "outputId": "e66ddeac-423a-4912-df20-069fb2e75291"
      },
      "id": "K1mJK83o8L5s",
      "execution_count": 89,
      "outputs": [
        {
          "output_type": "stream",
          "name": "stdout",
          "text": [
            "Bark\n"
          ]
        }
      ]
    },
    {
      "cell_type": "code",
      "source": [
        "#Example 4: Method overriding\n",
        "class Shape:\n",
        "    def area(self):\n",
        "        pass\n",
        "\n",
        "class Circle(Shape):\n",
        "    def area(self):\n",
        "        print(\"Area of Circle\")\n",
        "\n",
        "class Square(Shape):\n",
        "    def area(self):\n",
        "        print(\"Area of Square\")\n",
        "\n",
        "for shape in (Circle(), Square()):\n",
        "    shape.area()\n"
      ],
      "metadata": {
        "colab": {
          "base_uri": "https://localhost:8080/"
        },
        "id": "jC3-vzQE8MTi",
        "outputId": "a54c2227-ca29-46ab-fdca-233505cb45e7"
      },
      "id": "jC3-vzQE8MTi",
      "execution_count": 90,
      "outputs": [
        {
          "output_type": "stream",
          "name": "stdout",
          "text": [
            "Area of Circle\n",
            "Area of Square\n"
          ]
        }
      ]
    },
    {
      "cell_type": "code",
      "source": [
        "#Example 5: __init__ and __del__ methods\n",
        "\n",
        "class Demo:\n",
        "    def __init__(self):\n",
        "        print(\"Object created\")\n",
        "\n",
        "    def __del__(self):\n",
        "        print(\"Object deleted\")\n",
        "\n",
        "obj = Demo()\n",
        "del obj\n"
      ],
      "metadata": {
        "colab": {
          "base_uri": "https://localhost:8080/"
        },
        "id": "bU8CzWIJ8Mcu",
        "outputId": "6792caa8-47c5-4d3d-9b2b-d81f164198f0"
      },
      "id": "bU8CzWIJ8Mcu",
      "execution_count": 91,
      "outputs": [
        {
          "output_type": "stream",
          "name": "stdout",
          "text": [
            "Object created\n",
            "Object deleted\n"
          ]
        }
      ]
    }
  ],
  "metadata": {
    "kernelspec": {
      "display_name": "Python 3",
      "name": "python3"
    },
    "language_info": {
      "codemirror_mode": {
        "name": "ipython",
        "version": 3
      },
      "file_extension": ".py",
      "mimetype": "text/x-python",
      "name": "python",
      "nbconvert_exporter": "python",
      "pygments_lexer": "ipython3",
      "version": "3.11.0"
    },
    "colab": {
      "provenance": [],
      "include_colab_link": true
    }
  },
  "nbformat": 4,
  "nbformat_minor": 5
}