{
  "cells": [
    {
      "cell_type": "markdown",
      "metadata": {
        "id": "view-in-github",
        "colab_type": "text"
      },
      "source": [
        "<a href=\"https://colab.research.google.com/github/infantanto1805/rasa.ai/blob/main/Assignment.ipynb\" target=\"_parent\"><img src=\"https://colab.research.google.com/assets/colab-badge.svg\" alt=\"Open In Colab\"/></a>"
      ]
    },
    {
      "cell_type": "markdown",
      "source": [
        "#Hangman_Problem"
      ],
      "metadata": {
        "id": "WrSJYx8Qu1w6"
      },
      "id": "WrSJYx8Qu1w6"
    },
    {
      "cell_type": "code",
      "execution_count": null,
      "id": "33ef4a7e",
      "metadata": {
        "id": "33ef4a7e",
        "outputId": "2a08281c-e80e-4530-cee5-76b54a7b8316",
        "colab": {
          "base_uri": "https://localhost:8080/"
        }
      },
      "outputs": [
        {
          "output_type": "stream",
          "name": "stdout",
          "text": [
            "Welcome to the Word Guessing Game!\n",
            "\n",
            "Missed letters: None\n",
            "Word: _ _ _ _ _ _ _ _ _ _ _\n",
            "Guess a letter: e\n",
            "Incorrect guess.\n",
            "\n",
            "Missed letters: E\n",
            "Word: _ _ _ _ _ _ _ _ _ _ _\n",
            "Guess a letter: l\n",
            "Incorrect guess.\n",
            "\n",
            "Missed letters: E L\n",
            "Word: _ _ _ _ _ _ _ _ _ _ _\n",
            "Guess a letter: j\n",
            "Incorrect guess.\n",
            "\n",
            "Missed letters: E L J\n",
            "Word: _ _ _ _ _ _ _ _ _ _ _\n",
            "Guess a letter: g\n",
            "Good guess!\n",
            "\n",
            "Missed letters: E L J\n",
            "Word: _ _ _ G _ _ _ _ _ _ G\n",
            "Guess a letter: a\n",
            "Good guess!\n",
            "\n",
            "Missed letters: E L J\n",
            "Word: _ _ _ G _ A _ _ _ _ G\n",
            "Guess a letter: i\n",
            "Good guess!\n",
            "\n",
            "Missed letters: E L J\n",
            "Word: _ _ _ G _ A _ _ I _ G\n",
            "Guess a letter: n\n",
            "Good guess!\n",
            "\n",
            "Missed letters: E L J\n",
            "Word: _ _ _ G _ A _ _ I N G\n",
            "Guess a letter: e\n",
            "You already guessed that letter.\n",
            "Guess a letter: p\n",
            "Good guess!\n",
            "\n",
            "Missed letters: E L J\n",
            "Word: P _ _ G _ A _ _ I N G\n",
            "Guess a letter: r\n",
            "Good guess!\n",
            "\n",
            "Missed letters: E L J\n",
            "Word: P R _ G R A _ _ I N G\n",
            "Guess a letter: o\n",
            "Good guess!\n",
            "\n",
            "Missed letters: E L J\n",
            "Word: P R O G R A _ _ I N G\n",
            "Guess a letter: m\n",
            "Good guess!\n",
            "\n",
            "You won! The word was: PROGRAMMING\n",
            "Do you want to play again? (yes or no): m\n",
            "Thanks for playing!\n"
          ]
        }
      ],
      "source": [
        "import random\n",
        "\n",
        "def choose_word(word_list):\n",
        "    return random.choice(word_list).upper()\n",
        "\n",
        "def display_board(missed_letters, correct_letters, secret_word):\n",
        "    print(\"\\nMissed letters:\", \" \".join(missed_letters) if missed_letters else \"None\")\n",
        "\n",
        "    display = \"\"\n",
        "    for letter in secret_word:\n",
        "        if letter in correct_letters:\n",
        "            display += letter + \" \"\n",
        "        else:\n",
        "            display += \"_ \"\n",
        "    print(\"Word:\", display.strip())\n",
        "\n",
        "def get_guess(already_guessed):\n",
        "    while True:\n",
        "        guess = input(\"Guess a letter: \").upper()\n",
        "        if len(guess) != 1:\n",
        "            print(\"Please enter only one letter.\")\n",
        "        elif not guess.isalpha():\n",
        "            print(\"Please enter a valid letter (A-Z).\")\n",
        "        elif guess in already_guessed:\n",
        "            print(\"You already guessed that letter.\")\n",
        "        else:\n",
        "            return guess\n",
        "\n",
        "def check_game_over(correct_letters, missed_letters, secret_word):\n",
        "    if set(secret_word) <= set(correct_letters):\n",
        "        print(f\"\\nYou won! The word was: {secret_word}\")\n",
        "        return True\n",
        "    elif len(missed_letters) >= 6:\n",
        "        print(f\"\\nYou lost! The word was: {secret_word}\")\n",
        "        return True\n",
        "    return False\n",
        "\n",
        "def play_again():\n",
        "    return input(\"Do you want to play again? (yes or no): \").lower().startswith('y')\n",
        "\n",
        "def play():\n",
        "    word_list = [\n",
        "        \"python\", \"jupyter\", \"programming\", \"function\", \"analytics\",\n",
        "        \"explore\", \"generative\", \"infinite\", \"network\", \"foundation\"\n",
        "    ]\n",
        "    secret_word = choose_word(word_list)\n",
        "    missed_letters = []\n",
        "    correct_letters = []\n",
        "\n",
        "    print(\"Welcome to the Word Guessing Game!\")\n",
        "\n",
        "    while True:\n",
        "        display_board(missed_letters, correct_letters, secret_word)\n",
        "\n",
        "        guess = get_guess(missed_letters + correct_letters)\n",
        "\n",
        "        if guess in secret_word:\n",
        "            correct_letters.append(guess)\n",
        "            print(\"Good guess!\")\n",
        "        else:\n",
        "            missed_letters.append(guess)\n",
        "            print(\"Incorrect guess.\")\n",
        "\n",
        "        if check_game_over(correct_letters, missed_letters, secret_word):\n",
        "            if play_again():\n",
        "                secret_word = choose_word(word_list)\n",
        "                missed_letters = []\n",
        "                correct_letters = []\n",
        "            else:\n",
        "                print(\"Thanks for playing!\")\n",
        "                break\n",
        "\n",
        "# Run the game\n",
        "play()"
      ]
    },
    {
      "cell_type": "markdown",
      "source": [
        "# Assignment List and tupul"
      ],
      "metadata": {
        "id": "39_3qPSgs2aB"
      },
      "id": "39_3qPSgs2aB"
    },
    {
      "cell_type": "code",
      "source": [
        "student_marks = [\n",
        "    ['Name', 'A', 'B', 'C', 'D', 'E'],\n",
        "    ['Ankit', 41, 34, 45, 55, 63],\n",
        "    ['Aravind', 42, 23, 34, 44, 53],\n",
        "    ['Lakshay', 32, 23, 13, 54, 67],\n",
        "    ['Gyan', 23, 82, 23, 63, 34],\n",
        "    ['Pranav', 21, 23, 25, 56, 56]\n",
        "]\n",
        "\n",
        "data = student_marks[1:]"
      ],
      "metadata": {
        "id": "HvimWj5JsQLc"
      },
      "id": "HvimWj5JsQLc",
      "execution_count": null,
      "outputs": []
    },
    {
      "cell_type": "code",
      "source": [
        "marks_b = [student[2] for student in data]\n",
        "highest_marks_b = max(marks_b)\n",
        "highest_scorer_b = [student[0] for student in data if student[2] == highest_marks_b][0]\n",
        "print(f\"Highest in B: {highest_scorer_b} with {highest_marks_b} marks.\")"
      ],
      "metadata": {
        "colab": {
          "base_uri": "https://localhost:8080/"
        },
        "id": "s3m0MDRzsQvR",
        "outputId": "39e3c19e-2fab-4beb-dd2b-07957b1b6e07"
      },
      "id": "s3m0MDRzsQvR",
      "execution_count": null,
      "outputs": [
        {
          "output_type": "stream",
          "name": "stdout",
          "text": [
            "Highest in B: Gyan with 82 marks.\n"
          ]
        }
      ]
    },
    {
      "cell_type": "code",
      "source": [
        "marks_c = [student[3] for student in data]\n",
        "average_marks_c = sum(marks_c) / len(marks_c)\n",
        "print(f\"Average in C: {average_marks_c:.2f}\")"
      ],
      "metadata": {
        "colab": {
          "base_uri": "https://localhost:8080/"
        },
        "id": "qjRn9z6QsQ2l",
        "outputId": "e0d4897a-be20-46ac-d928-e5a312ea4ea0"
      },
      "id": "qjRn9z6QsQ2l",
      "execution_count": null,
      "outputs": [
        {
          "output_type": "stream",
          "name": "stdout",
          "text": [
            "Average in C: 28.00\n"
          ]
        }
      ]
    },
    {
      "cell_type": "code",
      "source": [
        "percentages = [(student[0], sum(student[1:]) / 500 * 100) for student in data]\n",
        "highest_percentage_scorer, highest_percentage = max(percentages, key=lambda item: item[1])\n",
        "print(f\"Highest Percentage: {highest_percentage_scorer} with {highest_percentage:.2f}%\")"
      ],
      "metadata": {
        "colab": {
          "base_uri": "https://localhost:8080/"
        },
        "id": "3jqkzvHisQ9U",
        "outputId": "1d16adf6-293d-451a-b17c-344fa42bb7a6"
      },
      "id": "3jqkzvHisQ9U",
      "execution_count": null,
      "outputs": [
        {
          "output_type": "stream",
          "name": "stdout",
          "text": [
            "Highest Percentage: Ankit with 47.60%\n"
          ]
        }
      ]
    },
    {
      "cell_type": "code",
      "execution_count": null,
      "id": "73bbdef0",
      "metadata": {
        "id": "73bbdef0",
        "colab": {
          "base_uri": "https://localhost:8080/"
        },
        "outputId": "4e11ebcf-ac3a-4a7d-e4af-f54535ffeca3"
      },
      "outputs": [
        {
          "output_type": "stream",
          "name": "stdout",
          "text": [
            "Highest Top-4 Percentage: Ankit with 51.00%\n"
          ]
        }
      ],
      "source": [
        "top4_percentages = []\n",
        "for student in data:\n",
        "    name = student[0]\n",
        "    marks = sorted(student[1:], reverse=True)\n",
        "    top4_total = sum(marks[:4])\n",
        "    percentage_top4 = (top4_total / 400) * 100\n",
        "    top4_percentages.append((name, percentage_top4))\n",
        "    highest_scorer_top4, highest_percentage_top4 = max(top4_percentages, key=lambda item: item[1])\n",
        "print(f\"Highest Top-4 Percentage: {highest_scorer_top4} with {highest_percentage_top4:.2f}%\")"
      ]
    },
    {
      "cell_type": "markdown",
      "source": [
        "#Python pracrtice code\n"
      ],
      "metadata": {
        "id": "23WH3ldPsjMh"
      },
      "id": "23WH3ldPsjMh"
    },
    {
      "cell_type": "code",
      "source": [
        "#1.Python program to print the first N numbers in the Fibonacci series\n",
        "def fibonacci_series(n):\n",
        "    fib_series = [0, 1]\n",
        "    for i in range(2, n):\n",
        "        fib_series.append(fib_series[-1] + fib_series[-2])\n",
        "    return fib_series[:n]\n",
        "n = 10\n",
        "print(f\"Fibonacci series with {n} terms:\")\n",
        "print(fibonacci_series(n))"
      ],
      "metadata": {
        "id": "lMOVsg7bYXA7",
        "colab": {
          "base_uri": "https://localhost:8080/"
        },
        "outputId": "6d4f3e9c-1e1e-4336-ec93-dea18462e9ed"
      },
      "id": "lMOVsg7bYXA7",
      "execution_count": null,
      "outputs": [
        {
          "output_type": "stream",
          "name": "stdout",
          "text": [
            "Fibonacci series with 10 terms:\n",
            "[0, 1, 1, 2, 3, 5, 8, 13, 21, 34]\n"
          ]
        }
      ]
    },
    {
      "cell_type": "code",
      "source": [
        "# 2. Palindrome\n",
        "def is_palindrome(s):\n",
        "    s = str(s)\n",
        "    return s == s[::-1]\n",
        "\n",
        "s = input(\"Enter string or number: \")\n",
        "print(\"Palindrome!\" if is_palindrome(s) else \"Not a palindrome.\")"
      ],
      "metadata": {
        "id": "lGHOSUx5tPWP",
        "colab": {
          "base_uri": "https://localhost:8080/"
        },
        "outputId": "3b98b4a9-7991-4046-95a1-f1201f941482"
      },
      "id": "lGHOSUx5tPWP",
      "execution_count": null,
      "outputs": [
        {
          "output_type": "stream",
          "name": "stdout",
          "text": [
            "Enter string or number: 33\n",
            "Palindrome!\n"
          ]
        }
      ]
    },
    {
      "cell_type": "code",
      "source": [
        "#3. Factorial using Iteration\n",
        "def factorial_iter(n):\n",
        "    fact = 1\n",
        "    for i in range(1, n + 1):\n",
        "        fact *= i\n",
        "    return fact\n",
        "# Factorial using Recursion\n",
        "def factorial_recur(n):\n",
        "    if n == 0 or n == 1:\n",
        "        return 1\n",
        "    else:\n",
        "        return n * factorial_recur(n - 1)\n",
        "        n = 10\n",
        "print(f\"Factorial (Iterative): {factorial_iter(n)}\")\n",
        "print(f\"Factorial (Recursive): {factorial_recur(n)}\")"
      ],
      "metadata": {
        "id": "O25FstSntPfk",
        "colab": {
          "base_uri": "https://localhost:8080/"
        },
        "outputId": "6f7bf884-3b02-4013-91ec-8e1cac5fbf41"
      },
      "id": "O25FstSntPfk",
      "execution_count": null,
      "outputs": [
        {
          "output_type": "stream",
          "name": "stdout",
          "text": [
            "Factorial (Iterative): 3628800\n",
            "Factorial (Recursive): 3628800\n"
          ]
        }
      ]
    },
    {
      "cell_type": "code",
      "source": [
        "# 4. program to check if a number is prime, and print all primes between 1 and 100.\n",
        "def is_prime(n):\n",
        "    if n <= 1:\n",
        "        return False\n",
        "    for i in range(2, int(n**0.5)+1):\n",
        "        if n % i == 0:\n",
        "            return False\n",
        "    return True\n",
        "\n",
        "# Check number is prime\n",
        "num = 30\n",
        "print(\"Prime!\" if is_prime(num) else \"Not prime.\")\n",
        "\n",
        "# Prime Numbers between 1-100\n",
        "primes = [x for x in range(2, 101) if is_prime(x)]\n",
        "print(\"Primes between 1 and 100:\", primes)"
      ],
      "metadata": {
        "id": "HXxAgnKztPli",
        "colab": {
          "base_uri": "https://localhost:8080/"
        },
        "outputId": "d33c3947-b427-49c2-c23d-4d25b647ffe0"
      },
      "id": "HXxAgnKztPli",
      "execution_count": null,
      "outputs": [
        {
          "output_type": "stream",
          "name": "stdout",
          "text": [
            "Not prime.\n",
            "Primes between 1 and 100: [2, 3, 5, 7, 11, 13, 17, 19, 23, 29, 31, 37, 41, 43, 47, 53, 59, 61, 67, 71, 73, 79, 83, 89, 97]\n"
          ]
        }
      ]
    },
    {
      "cell_type": "code",
      "source": [
        "# 5. Armstrong Number\n",
        "def is_armstrong(n):\n",
        "    num_str = str(n)\n",
        "    power = len(num_str)\n",
        "    return n == sum(int(digit) ** power for digit in num_str)\n",
        "\n",
        "num = 153\n",
        "print(\"Armstrong\" if is_armstrong(num) else \"Not Armstrong.\")"
      ],
      "metadata": {
        "id": "qvafSg2ktPsL",
        "colab": {
          "base_uri": "https://localhost:8080/"
        },
        "outputId": "c5784770-2aed-48a7-b709-4a9bba5c6b3f"
      },
      "id": "qvafSg2ktPsL",
      "execution_count": null,
      "outputs": [
        {
          "output_type": "stream",
          "name": "stdout",
          "text": [
            "Armstrong\n"
          ]
        }
      ]
    },
    {
      "cell_type": "code",
      "source": [
        "# 6. Reverse Number & Sum of Digits\n",
        "num = 34567\n",
        "# Reverse\n",
        "reverse_num = int(str(num)[::-1])\n",
        "print(f\"Reversed Number: {reverse_num}\")\n",
        "# Sum of digits\n",
        "sum_digits = sum(int(d) for d in str(num))\n",
        "print(f\"Sum of digits: {sum_digits}\")"
      ],
      "metadata": {
        "colab": {
          "base_uri": "https://localhost:8080/"
        },
        "id": "c6K9CcaKuJDM",
        "outputId": "4e3f783d-4cc7-4a38-f753-32805d436392"
      },
      "id": "c6K9CcaKuJDM",
      "execution_count": null,
      "outputs": [
        {
          "output_type": "stream",
          "name": "stdout",
          "text": [
            "Reversed Number: 76543\n",
            "Sum of digits: 25\n"
          ]
        }
      ]
    },
    {
      "cell_type": "code",
      "source": [
        "#7 program to find the second largest number\n",
        "user_input = \"6 7 8 7 4 5 5\"\n",
        "nums = list(map(int, user_input.split()))\n",
        "nums = list(set(nums))\n",
        "nums.sort(reverse=True)\n",
        "print(f\"Second largest: {nums[1]}\")"
      ],
      "metadata": {
        "colab": {
          "base_uri": "https://localhost:8080/"
        },
        "id": "WCgGygZ-uJK_",
        "outputId": "37f04e93-cbb7-4f79-9a10-828be0ebe116"
      },
      "id": "WCgGygZ-uJK_",
      "execution_count": null,
      "outputs": [
        {
          "output_type": "stream",
          "name": "stdout",
          "text": [
            "Second largest: 7\n"
          ]
        }
      ]
    },
    {
      "cell_type": "code",
      "source": [
        "#8.Python function to count the number of vowels and consonants in a given string.\n",
        "def count_vowels_consonants(s):\n",
        "    vowels = \"aeiouAEIOU\"\n",
        "    v = sum(1 for ch in s if ch in vowels)\n",
        "    c = sum(1 for ch in s if ch.isalpha() and ch not in vowels)\n",
        "    return v, c\n",
        "s = \"Cristiano Ronaldo\"\n",
        "vowels, consonants = count_vowels_consonants(s)\n",
        "print(f\"Vowels: {vowels}, Consonants: {consonants}\")"
      ],
      "metadata": {
        "colab": {
          "base_uri": "https://localhost:8080/"
        },
        "id": "q57-x6JAuJQe",
        "outputId": "501b7a95-6daa-4b84-8f91-b137a09b4185"
      },
      "id": "q57-x6JAuJQe",
      "execution_count": null,
      "outputs": [
        {
          "output_type": "stream",
          "name": "stdout",
          "text": [
            "Vowels: 7, Consonants: 9\n"
          ]
        }
      ]
    },
    {
      "cell_type": "code",
      "source": [
        "#9.find the missing number\n",
        "user_input = \"2 3 4 5 6 7\"\n",
        "nums = list(map(int, user_input.split()))\n",
        "n = len(nums) + 1\n",
        "expected_sum = n * (n + 1) // 2\n",
        "actual_sum = sum(nums)\n",
        "print(f\"Missing number is: {expected_sum - actual_sum}\")"
      ],
      "metadata": {
        "colab": {
          "base_uri": "https://localhost:8080/"
        },
        "id": "kr7_0P4muX4e",
        "outputId": "d4c5ce0e-6935-4316-b5ca-a6b0bd4da2ff"
      },
      "id": "kr7_0P4muX4e",
      "execution_count": null,
      "outputs": [
        {
          "output_type": "stream",
          "name": "stdout",
          "text": [
            "Missing number is: 1\n"
          ]
        }
      ]
    }
  ],
  "metadata": {
    "kernelspec": {
      "display_name": "Python 3 (ipykernel)",
      "language": "python",
      "name": "python3"
    },
    "language_info": {
      "codemirror_mode": {
        "name": "ipython",
        "version": 3
      },
      "file_extension": ".py",
      "mimetype": "text/x-python",
      "name": "python",
      "nbconvert_exporter": "python",
      "pygments_lexer": "ipython3",
      "version": "3.10.9"
    },
    "colab": {
      "provenance": [],
      "include_colab_link": true
    }
  },
  "nbformat": 4,
  "nbformat_minor": 5
}